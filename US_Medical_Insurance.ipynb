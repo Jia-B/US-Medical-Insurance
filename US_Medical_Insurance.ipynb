{
  "cells": [
    {
      "cell_type": "markdown",
      "id": "552b48bc",
      "metadata": {
        "id": "552b48bc"
      },
      "source": [
        "# U.S. Medical Insurance"
      ]
    },
    {
      "cell_type": "markdown",
      "source": [
        "By Jia Bloom | Date: 6/17/23\n",
        "\n"
      ],
      "metadata": {
        "id": "GYhKdT3rRyJ_"
      },
      "id": "GYhKdT3rRyJ_"
    },
    {
      "cell_type": "markdown",
      "id": "e1439ac3",
      "metadata": {
        "id": "e1439ac3"
      },
      "source": [
        "In this project, a CSV file containing information about medical insurance costs will be investigated using **Python**. This dataset was pulled from [Kaggle](https://www.kaggle.com/datasets/teertha/ushealthinsurancedataset) to be used as a practice dataset for data analysis.\n",
        "\n",
        "The goal of the project will be to conduct **descriptive** and **exploratory** analysis on the dataset to gain insights into the patients and their insurance costs, specifically how a patient's demographic information impacts their insurance costs."
      ]
    },
    {
      "cell_type": "markdown",
      "source": [
        "`insurance.csv` contains 7 columns where each row is a patient:\n",
        "\n",
        "\n",
        "*   `Age`: patient's age\n",
        "*   `Sex`: patient's sex\n",
        "*   `BMI`: patient's body mass index (BMI)\n",
        "*   `Number of Children`: number of patient's children\n",
        "*   `Smoking Status`: whether the patient smokes\n",
        "*   `U.S. Geographical Region`: patient's region\n",
        "*   `Yearly Medical Insurance Cost (AKA Charges)`: amount patient is charged per year for medical insurance\n",
        "\n"
      ],
      "metadata": {
        "id": "Sgy3nLKbS-qc"
      },
      "id": "Sgy3nLKbS-qc"
    },
    {
      "cell_type": "markdown",
      "source": [
        "## Setting Up Environment and Loading Data"
      ],
      "metadata": {
        "id": "b8rfjPHJUkPv"
      },
      "id": "b8rfjPHJUkPv"
    },
    {
      "cell_type": "markdown",
      "source": [
        "The first step is to import the relevant Python libraries: `csv`, `statistics`, and `Counter`."
      ],
      "metadata": {
        "id": "RoR9wMU4Qs8w"
      },
      "id": "RoR9wMU4Qs8w"
    },
    {
      "cell_type": "code",
      "source": [
        "import csv\n",
        "import statistics\n",
        "from collections import Counter\n",
        "import numpy as np\n",
        "from scipy import stats"
      ],
      "metadata": {
        "id": "1R8CgyB2Q0tH"
      },
      "id": "1R8CgyB2Q0tH",
      "execution_count": null,
      "outputs": []
    },
    {
      "cell_type": "markdown",
      "id": "4352ee88",
      "metadata": {
        "id": "4352ee88"
      },
      "source": [
        "Next, the `csv` library will be used to load the CSV file."
      ]
    },
    {
      "cell_type": "code",
      "execution_count": null,
      "id": "ea1725db",
      "metadata": {
        "id": "ea1725db"
      },
      "outputs": [],
      "source": [
        "# empty lists for the data to fill\n",
        "age = []\n",
        "sex = []\n",
        "bmi = []\n",
        "children = []\n",
        "smoker = []\n",
        "region = []\n",
        "charges = []\n",
        "\n",
        "# opens the file\n",
        "with open(\"/content/insurance.csv\", newline=\"\") as insurance_data:\n",
        "    insurance_reader = csv.DictReader(insurance_data, delimiter = \",\")\n",
        "    for row in insurance_reader:\n",
        "        age.append(row[\"age\"])\n",
        "        sex.append(row[\"sex\"])\n",
        "        bmi.append(row[\"bmi\"])\n",
        "        children.append(row[\"children\"])\n",
        "        smoker.append(row[\"smoker\"])\n",
        "        region.append(row[\"region\"])\n",
        "        charges.append(row[\"charges\"])"
      ]
    },
    {
      "cell_type": "markdown",
      "id": "50bb1d86",
      "metadata": {
        "id": "50bb1d86"
      },
      "source": [
        "## Data Cleaning"
      ]
    },
    {
      "cell_type": "code",
      "execution_count": null,
      "id": "284e9b1b",
      "metadata": {
        "id": "284e9b1b"
      },
      "outputs": [],
      "source": [
        "# standardizes capitalization for strings\n",
        "sex = [x.lower() for x in sex]\n",
        "smoker = [x.lower() for x in smoker]\n",
        "region = [x.lower() for x in region]\n",
        "\n",
        "# clears any extra spaces / whitespace from the data\n",
        "age = [x.strip() for x in age]\n",
        "sex = [x.strip() for x in sex]\n",
        "bmi = [x.strip() for x in bmi]\n",
        "children = [x.strip() for x in children]\n",
        "smoker = [x.strip() for x in smoker]\n",
        "region = [x.strip() for x in region]\n",
        "charges = [x.strip() for x in charges]\n",
        "\n",
        "# converts list items into correct data type\n",
        "age = [int(x) for x in age]\n",
        "bmi = [float(x) for x in bmi]\n",
        "children = [int(x) for x in children]\n",
        "smoker = [True if x == \"yes\" else False for x in smoker]\n",
        "charges = [float(x) for x in charges]"
      ]
    },
    {
      "cell_type": "markdown",
      "source": [
        "\n",
        "Note: The data type of sex & region don't need to be changed because they're meant to be strings."
      ],
      "metadata": {
        "id": "Z00v2HcfVLWL"
      },
      "id": "Z00v2HcfVLWL"
    },
    {
      "cell_type": "markdown",
      "id": "94cb5142",
      "metadata": {
        "id": "94cb5142"
      },
      "source": [
        "## Descriptive Analysis"
      ]
    },
    {
      "cell_type": "markdown",
      "id": "a4a4d13c",
      "metadata": {
        "id": "a4a4d13c"
      },
      "source": [
        "The next step is to produce summary statistics for the variables in the dataset."
      ]
    },
    {
      "cell_type": "markdown",
      "source": [
        "Numerical variables will be summarized with these statistics:\n",
        "\n",
        "*   Minimum\n",
        "*   Maximum\n",
        "*   Mean\n",
        "*   Standard Deviation\n",
        "*   Median\n",
        "\n"
      ],
      "metadata": {
        "id": "FcGaeeXmZ9h3"
      },
      "id": "FcGaeeXmZ9h3"
    },
    {
      "cell_type": "markdown",
      "source": [
        "Categorical variables will be summarized with these statistics:\n",
        "\n",
        "*   Frequency / Count\n",
        "*   Relative Percentages\n",
        "*   Mode\n",
        "\n"
      ],
      "metadata": {
        "id": "TmrieBusaNkC"
      },
      "id": "TmrieBusaNkC"
    },
    {
      "cell_type": "markdown",
      "id": "8a312a15",
      "metadata": {
        "id": "8a312a15"
      },
      "source": [
        "#### Numerical Variables"
      ]
    },
    {
      "cell_type": "markdown",
      "source": [
        "The following code creates a dictionary where the keys are the variables in the dataset, and the values are the data types. This will be used later."
      ],
      "metadata": {
        "id": "buMMWbEoZamF"
      },
      "id": "buMMWbEoZamF"
    },
    {
      "cell_type": "code",
      "source": [
        "data_types = {\n",
        "    \"age\": \"integer\",\n",
        "    \"sex\": \"string\",\n",
        "    \"bmi\": \"float\",\n",
        "    \"children\": \"integer\",\n",
        "    \"smoker\": \"boolean\",\n",
        "    \"region\": \"string\",\n",
        "    \"charges\": \"integer\"\n",
        "}"
      ],
      "metadata": {
        "id": "sTFtM6hOZr_0"
      },
      "id": "sTFtM6hOZr_0",
      "execution_count": null,
      "outputs": []
    },
    {
      "cell_type": "markdown",
      "source": [
        "\n",
        "The following code creates a dictionary of summary statistics for each numerical variable of the dataset.\n",
        "\n",
        "**Inputs**: `list` (data to summarize), `list_name` (name of the list), `dictionary` (empty dictionary to insert the results into)\n",
        "\n",
        "**Output**: dictionary where the keys are the variable / column names, and the values are dictionaries that include information on the associated summary statistics"
      ],
      "metadata": {
        "id": "ki9yYZo6ZrRN"
      },
      "id": "ki9yYZo6ZrRN"
    },
    {
      "cell_type": "code",
      "source": [
        "# function to create a dictionary of summary statistics\n",
        "def create_summary_dict(list, list_name, dictionary):\n",
        "    num_of_rows = len(list)\n",
        "    minimum = round(min(list), 2)\n",
        "    maximum = round(max(list), 2)\n",
        "    mean = round((sum(list)/len(list)), 2)\n",
        "    stdev = round((statistics.stdev(list)),2)\n",
        "    median = round(statistics.median(list), 2)\n",
        "    dictionary.update({list_name: {\"Count\": num_of_rows,\n",
        "                                   \"Minimum\": minimum,\n",
        "                                   \"Maximum\": maximum,\n",
        "                                   \"Mean\": mean,\n",
        "                                   \"Standard Deviation\": stdev,\n",
        "                                   \"Median\": median}})"
      ],
      "metadata": {
        "id": "ZVtBvtHRgV5T"
      },
      "id": "ZVtBvtHRgV5T",
      "execution_count": null,
      "outputs": []
    },
    {
      "cell_type": "code",
      "source": [
        "# calls function to summarize numerical variables\n",
        "num_sum = {}\n",
        "create_summary_dict(age, \"age\", num_sum)\n",
        "create_summary_dict(bmi, \"bmi\", num_sum)\n",
        "create_summary_dict(children, \"children\", num_sum)\n",
        "create_summary_dict(charges, \"charges\", num_sum)\n",
        "\n",
        "print(num_sum)"
      ],
      "metadata": {
        "colab": {
          "base_uri": "https://localhost:8080/"
        },
        "id": "J0pAWzDfbmcz",
        "outputId": "abb6331c-9391-4edc-cb91-8f25696379bf"
      },
      "id": "J0pAWzDfbmcz",
      "execution_count": null,
      "outputs": [
        {
          "output_type": "stream",
          "name": "stdout",
          "text": [
            "{'age': {'Count': 1338, 'Minimum': 18, 'Maximum': 64, 'Mean': 39.21, 'Standard Deviation': 14.05, 'Median': 39.0}, 'bmi': {'Count': 1338, 'Minimum': 15.96, 'Maximum': 53.13, 'Mean': 30.66, 'Standard Deviation': 6.1, 'Median': 30.4}, 'children': {'Count': 1338, 'Minimum': 0, 'Maximum': 5, 'Mean': 1.09, 'Standard Deviation': 1.21, 'Median': 1.0}, 'charges': {'Count': 1338, 'Minimum': 1121.87, 'Maximum': 63770.43, 'Mean': 13270.42, 'Standard Deviation': 12110.01, 'Median': 9382.03}}\n"
          ]
        }
      ]
    },
    {
      "cell_type": "markdown",
      "source": [
        "The following code takes the num_sum dictionary and prints it out with relevant context.\n",
        "\n",
        "**Input**: `var` (dictionary created from the previously defined `create_summary_dict` function)\n",
        "\n",
        "**Output**: printed message outlining summary statistics for each variable within the dictionary inputted in the function"
      ],
      "metadata": {
        "id": "5t1cdz4EikkF"
      },
      "id": "5t1cdz4EikkF"
    },
    {
      "cell_type": "code",
      "source": [
        "# define function\n",
        "def print_sum(var):\n",
        "  data_type = data_types.get(var)\n",
        "  count = str(num_sum.get(var).get(\"Count\"))\n",
        "  minimum = str(num_sum[var][\"Minimum\"])\n",
        "  maximum = str(num_sum[var][\"Maximum\"])\n",
        "  mean = str(num_sum[var][\"Mean\"])\n",
        "  stdev = str(num_sum[var][\"Standard Deviation\"])\n",
        "  median = str(num_sum[var][\"Median\"])\n",
        "  msg = \"\"\"{var} is an {data_type} with {num_of_rows} observations.\n",
        "              The data ranges from {minimum} to {maximum}.\n",
        "              The mean is {mean} with a standard deviation of {stdev}.\n",
        "              The median is {median}\"\"\".format(\n",
        "                      var=var.title(), data_type=data_type,\n",
        "                      num_of_rows=count,\n",
        "                      minimum=minimum, maximum=maximum,\n",
        "                      mean=mean, stdev=stdev, median=median)\n",
        "  alt_msg = \"\"\"{var} is an {data_type} with {num_of_rows} observations.\n",
        "              The data ranges from {minimum} to {maximum}.\n",
        "              The mean is {mean} with a standard deviation of {stdev}.\n",
        "              The median is {median}\"\"\".format(\n",
        "                      var=var.title(), data_type=data_type,\n",
        "                      num_of_rows=count,\n",
        "                      minimum=minimum, maximum=maximum,\n",
        "                      mean=mean, stdev=stdev, median=median)\n",
        "  if data_types.get(var) == \"integer\":\n",
        "    print(msg)\n",
        "  else:\n",
        "    print(alt_msg)"
      ],
      "metadata": {
        "id": "VYce5sPfi3_N"
      },
      "id": "VYce5sPfi3_N",
      "execution_count": null,
      "outputs": []
    },
    {
      "cell_type": "code",
      "source": [
        "# calls function to print summary statistics\n",
        "print_sum(\"age\")\n",
        "print_sum(\"bmi\")\n",
        "print_sum(\"children\")\n",
        "print_sum(\"charges\")"
      ],
      "metadata": {
        "colab": {
          "base_uri": "https://localhost:8080/"
        },
        "id": "28bEiCYvbgoS",
        "outputId": "10c12f63-5826-4a70-8874-d898e4c48139"
      },
      "id": "28bEiCYvbgoS",
      "execution_count": null,
      "outputs": [
        {
          "output_type": "stream",
          "name": "stdout",
          "text": [
            "Age is an integer with 1338 observations.\n",
            "              The data ranges from 18 to 64.\n",
            "              The mean is 39.21 with a standard deviation of 14.05.\n",
            "              The median is 39.0\n",
            "Bmi is an float with 1338 observations.\n",
            "              The data ranges from 15.96 to 53.13.\n",
            "              The mean is 30.66 with a standard deviation of 6.1.\n",
            "              The median is 30.4\n",
            "Children is an integer with 1338 observations.\n",
            "              The data ranges from 0 to 5.\n",
            "              The mean is 1.09 with a standard deviation of 1.21.\n",
            "              The median is 1.0\n",
            "Charges is an integer with 1338 observations.\n",
            "              The data ranges from 1121.87 to 63770.43.\n",
            "              The mean is 13270.42 with a standard deviation of 12110.01.\n",
            "              The median is 9382.03\n"
          ]
        }
      ]
    },
    {
      "cell_type": "markdown",
      "id": "5810427c",
      "metadata": {
        "id": "5810427c"
      },
      "source": [
        "#### Categorical Variables"
      ]
    },
    {
      "cell_type": "markdown",
      "source": [
        "The following code defines a function that creates a dictionary where the keys are unique categories and the values contain a dictionary that includes the raw count and the percentage of total for that category.\n",
        "\n",
        "**Inputs**: `list` (containing categorical data that needs to be summarized), `dictionary` (empty dictionary to input count & percentage data into)\n",
        "\n",
        "**Output**: dictionary with every unique value in the list as the keys and the values being information about how frequently that item occurs in the list and the associated relative percentage"
      ],
      "metadata": {
        "id": "Z8v1r4X_cArb"
      },
      "id": "Z8v1r4X_cArb"
    },
    {
      "cell_type": "code",
      "execution_count": null,
      "id": "9d7b5663",
      "metadata": {
        "id": "9d7b5663"
      },
      "outputs": [],
      "source": [
        "# define function\n",
        "def count_var(list, dictionary):\n",
        "    count_dict = Counter(list)\n",
        "    total_counts = sum(count_dict.values())\n",
        "    for key, count in count_dict.items():\n",
        "        percentage = count / total_counts\n",
        "        dictionary.update({key: {\"Count\": count, \"Percent\": percentage}})"
      ]
    },
    {
      "cell_type": "code",
      "source": [
        "# calls function\n",
        "sex_count = {}\n",
        "count_var(sex, sex_count)\n",
        "print(\"categorical summary of sex: \", sex_count)\n",
        "smoker_count = {}\n",
        "count_var(smoker, smoker_count)\n",
        "print(\"categorical summary of smoker status: \", smoker_count)\n",
        "region_count = {}\n",
        "count_var(region, region_count)\n",
        "print(\"categorical summary of region: \", region_count)"
      ],
      "metadata": {
        "colab": {
          "base_uri": "https://localhost:8080/"
        },
        "id": "rsS7jYOTcCbu",
        "outputId": "378a61be-a93d-4494-876b-47254aed1bcf"
      },
      "id": "rsS7jYOTcCbu",
      "execution_count": null,
      "outputs": [
        {
          "output_type": "stream",
          "name": "stdout",
          "text": [
            "categorical summary of sex:  {'female': {'Count': 662, 'Percent': 0.4947683109118087}, 'male': {'Count': 676, 'Percent': 0.5052316890881914}}\n",
            "categorical summary of smoker status:  {True: {'Count': 274, 'Percent': 0.20478325859491778}, False: {'Count': 1064, 'Percent': 0.7952167414050823}}\n",
            "categorical summary of region:  {'southwest': {'Count': 325, 'Percent': 0.2428998505231689}, 'southeast': {'Count': 364, 'Percent': 0.27204783258594917}, 'northwest': {'Count': 325, 'Percent': 0.2428998505231689}, 'northeast': {'Count': 324, 'Percent': 0.242152466367713}}\n"
          ]
        }
      ]
    },
    {
      "cell_type": "markdown",
      "source": [
        "The following code defines a function that finds the mode in a list of data.\n",
        "\n",
        "**Input**: `list` (data to find the mode of)\n",
        "\n",
        "**Output**: the mode of the list"
      ],
      "metadata": {
        "id": "NX6wsxJucFz3"
      },
      "id": "NX6wsxJucFz3"
    },
    {
      "cell_type": "code",
      "source": [
        "# define function\n",
        "def find_mode(list):\n",
        "    count_dict = Counter(list)\n",
        "    mode_value = max(count_dict.values())\n",
        "    for key, value in count_dict.items():\n",
        "      if mode_value == value:\n",
        "        return key"
      ],
      "metadata": {
        "id": "Zn208WUSgUJC"
      },
      "id": "Zn208WUSgUJC",
      "execution_count": null,
      "outputs": []
    },
    {
      "cell_type": "code",
      "source": [
        "# calls function to return modes\n",
        "print(\"The mode of sex is \" + find_mode(sex))\n",
        "print(\"The mode of smoker is \" + str(find_mode(smoker)))\n",
        "print(\"The mode of region is \" + find_mode(region))"
      ],
      "metadata": {
        "colab": {
          "base_uri": "https://localhost:8080/"
        },
        "id": "mqbO2Ld1dfbW",
        "outputId": "6738df07-6394-44ec-d98f-a1a375eef57b"
      },
      "id": "mqbO2Ld1dfbW",
      "execution_count": null,
      "outputs": [
        {
          "output_type": "stream",
          "name": "stdout",
          "text": [
            "The mode of sex is male\n",
            "The mode of smoker is False\n",
            "The mode of region is southeast\n"
          ]
        }
      ]
    },
    {
      "cell_type": "markdown",
      "source": [
        "## Exploratory Analysis"
      ],
      "metadata": {
        "id": "VazM7K7UlbP-"
      },
      "id": "VazM7K7UlbP-"
    },
    {
      "cell_type": "markdown",
      "source": [
        "The next step is to explore relationships between variables in the dataset. This will be divided into two sections based on variable type, and the analysis will focus on the relationship between a patient's demographics and how much they're charged for medical insurance.\n",
        "\n",
        "\n",
        "*   Numerical variables\n",
        "*   Categorical variables\n"
      ],
      "metadata": {
        "id": "juOFXjAhleAV"
      },
      "id": "juOFXjAhleAV"
    },
    {
      "cell_type": "markdown",
      "source": [
        "#### Numerical Variables"
      ],
      "metadata": {
        "id": "0gAOoCYjm8oG"
      },
      "id": "0gAOoCYjm8oG"
    },
    {
      "cell_type": "markdown",
      "source": [
        "As a reminder, the numerical variables in this dataset are the following:\n",
        "\n",
        "\n",
        "*   Age\n",
        "*   BMI\n",
        "*   Number of Children\n",
        "*   Yearly Medical Insurance Cost\n",
        "\n",
        "The analysis will mainly focus on the relationship of the first three variables to Yearly Medical Insurance Cost. The initial hypothesis is that there will be a linear positive relationship between the first three variables to Yearly Medical Insurance Cost. To determine the relationship, the **`NumPy`** and **`stats`** libraries will be used to calculate linear regression, correlation coefficient, R-squared, and p-value."
      ],
      "metadata": {
        "id": "9UZvroupnAfJ"
      },
      "id": "9UZvroupnAfJ"
    },
    {
      "cell_type": "markdown",
      "source": [
        "The following code defines a function that returns a  dictionary of linear correlation stats, including slope, intercept, correlation coefficient, r-squared, p-value, and standard error.\n",
        "\n",
        "**Inputs**: `list_x` (list of values to be correlated with `list_y`), `list_y` (list of values to be correlated with `list_x`)\n",
        "\n",
        "**Output**: dictionary that contains the slope, intercept, correlation coefficient, r-squared, p-value, and standard error associated with running a correlation between the two lists"
      ],
      "metadata": {
        "id": "WT5uSTTnd0VK"
      },
      "id": "WT5uSTTnd0VK"
    },
    {
      "cell_type": "code",
      "source": [
        "# defines a function that returns linear correlation stats\n",
        "def regression(list_x, list_y):\n",
        "  x = np.array(list_x)\n",
        "  y = np.array(list_y)\n",
        "  slope, intercept, r_value, p_value, std_err = stats.linregress(x, y)\n",
        "  regression_dict = {\"Slope\": slope,\n",
        "                     \"Intercept\": intercept,\n",
        "                     \"Correlation Coefficient\": r_value,\n",
        "                     \"r-squared\": (r_value**2),\n",
        "                     \"p-value\": p_value,\n",
        "                     \"Standard Error\": std_err}\n",
        "  rounded_regression = {}\n",
        "  for key, value in regression_dict.items():\n",
        "    rounded_value = round(value, 4)\n",
        "    rounded_regression.update({key: rounded_value})\n",
        "  return rounded_regression"
      ],
      "metadata": {
        "id": "OBXZRND-m8Fd"
      },
      "id": "OBXZRND-m8Fd",
      "execution_count": null,
      "outputs": []
    },
    {
      "cell_type": "code",
      "source": [
        "# calls function to print the correlations\n",
        "age_to_charges = regression(age, charges)\n",
        "bmi_to_charges = regression(bmi, charges)\n",
        "children_to_charges = regression(children, charges)\n",
        "print(\"correlation between age & charges: \", age_to_charges)\n",
        "print(\"correlation between BMI & charges: \", bmi_to_charges)\n",
        "print(\"correlation between number of children & charges: \", children_to_charges)"
      ],
      "metadata": {
        "colab": {
          "base_uri": "https://localhost:8080/"
        },
        "id": "elvE6C0VOfKU",
        "outputId": "f9b0c16f-33a0-427c-8704-d4896d779a8e"
      },
      "id": "elvE6C0VOfKU",
      "execution_count": null,
      "outputs": [
        {
          "output_type": "stream",
          "name": "stdout",
          "text": [
            "correlation between age & charges:  {'Slope': 257.7226, 'Intercept': 3165.885, 'Correlation Coefficient': 0.299, 'r-squared': 0.0894, 'p-value': 0.0, 'Standard Error': 22.5024}\n",
            "correlation between BMI & charges:  {'Slope': 393.873, 'Intercept': 1192.9372, 'Correlation Coefficient': 0.1983, 'r-squared': 0.0393, 'p-value': 0.0, 'Standard Error': 53.2507}\n",
            "correlation between number of children & charges:  {'Slope': 683.0894, 'Intercept': 12522.4955, 'Correlation Coefficient': 0.068, 'r-squared': 0.0046, 'p-value': 0.0129, 'Standard Error': 274.2018}\n"
          ]
        }
      ]
    },
    {
      "cell_type": "markdown",
      "source": [
        "#### Categorical Variables"
      ],
      "metadata": {
        "id": "RDn9wjDwPLCq"
      },
      "id": "RDn9wjDwPLCq"
    },
    {
      "cell_type": "markdown",
      "source": [
        "The following code modifies a previous function to take only one argument.\n",
        "\n",
        "**Input**: `list` (list of data to summarize)\n",
        "\n",
        "**Output**: dictionary containing summary statistics of the list (count, minimum, maximum, mean, standard deviation, and median)"
      ],
      "metadata": {
        "id": "5T4K787belNX"
      },
      "id": "5T4K787belNX"
    },
    {
      "cell_type": "code",
      "source": [
        "# modified create_summary_dict to only take one argument\n",
        "def summarize(list):\n",
        "    dictionary = {}\n",
        "    num_of_rows = len(list)\n",
        "    minimum = round(min(list), 2)\n",
        "    maximum = round(max(list), 2)\n",
        "    mean = round((sum(list)/len(list)), 2)\n",
        "    stdev = round((statistics.stdev(list)),2)\n",
        "    median = round(statistics.median(list), 2)\n",
        "    dictionary.update({\"Count\": num_of_rows,\n",
        "                        \"Minimum\": minimum,\n",
        "                        \"Maximum\": maximum,\n",
        "                        \"Mean\": mean,\n",
        "                        \"Standard Deviation\": stdev,\n",
        "                        \"Median\": median})\n",
        "    return dictionary\n"
      ],
      "metadata": {
        "id": "KbOHadTtPJ6e"
      },
      "id": "KbOHadTtPJ6e",
      "execution_count": null,
      "outputs": []
    },
    {
      "cell_type": "markdown",
      "source": [
        "The following code groups data by categories, and then finds summary statistics on the charges associated with each category. For example, this function can find the average charge for men vs. the average charge for women.\n",
        "\n",
        "**Inputs**: `cat_var` (list containing a list of categorical data to group by), `charges` (list containing the numerical data to summarize)\n",
        "\n",
        "**Output**: dictionary that contains a summary of the charges (count, minimum, maximum, mean, standard deviation, and median) grouped by a categorical variable"
      ],
      "metadata": {
        "id": "tdVdiSr1NaoY"
      },
      "id": "tdVdiSr1NaoY"
    },
    {
      "cell_type": "code",
      "source": [
        "# define function to summarize charges by category\n",
        "def sum_by_cat(cat_var, charges):\n",
        "  unique = list(set(cat_var))\n",
        "  num_unique = len(unique)\n",
        "  for i in range(num_unique):\n",
        "    list_charges = []\n",
        "    for j in range(len(cat_var)):\n",
        "      if unique[i] == cat_var[j]:\n",
        "        list_charges.append(charges[j])\n",
        "    print(\"charges for\", unique[i], \": \", summarize(list_charges))"
      ],
      "metadata": {
        "id": "cNYCTJFvNDd9"
      },
      "id": "cNYCTJFvNDd9",
      "execution_count": null,
      "outputs": []
    },
    {
      "cell_type": "code",
      "source": [
        "print(\"Charges by sex:\")\n",
        "sum_by_cat(sex, charges)"
      ],
      "metadata": {
        "colab": {
          "base_uri": "https://localhost:8080/"
        },
        "id": "m1QGLMQiVM3c",
        "outputId": "54521aba-501f-4a82-b71f-6f1ba5a753d9"
      },
      "id": "m1QGLMQiVM3c",
      "execution_count": null,
      "outputs": [
        {
          "output_type": "stream",
          "name": "stdout",
          "text": [
            "Charges by sex:\n",
            "charges for female :  {'Count': 662, 'Minimum': 1607.51, 'Maximum': 63770.43, 'Mean': 12569.58, 'Standard Deviation': 11128.7, 'Median': 9412.96}\n",
            "charges for male :  {'Count': 676, 'Minimum': 1121.87, 'Maximum': 62592.87, 'Mean': 13956.75, 'Standard Deviation': 12971.03, 'Median': 9369.62}\n"
          ]
        }
      ]
    },
    {
      "cell_type": "code",
      "source": [
        "print(\"Charges by smoker status:\")\n",
        "sum_by_cat(smoker, charges)"
      ],
      "metadata": {
        "colab": {
          "base_uri": "https://localhost:8080/"
        },
        "id": "OkOdi8dDXd8J",
        "outputId": "fdb401f3-efe0-45dc-d7e5-1d1052296d7c"
      },
      "id": "OkOdi8dDXd8J",
      "execution_count": null,
      "outputs": [
        {
          "output_type": "stream",
          "name": "stdout",
          "text": [
            "Charges by smoker status:\n",
            "charges for False :  {'Count': 1064, 'Minimum': 1121.87, 'Maximum': 36910.61, 'Mean': 8434.27, 'Standard Deviation': 5993.78, 'Median': 7345.41}\n",
            "charges for True :  {'Count': 274, 'Minimum': 12829.46, 'Maximum': 63770.43, 'Mean': 32050.23, 'Standard Deviation': 11541.55, 'Median': 34456.35}\n"
          ]
        }
      ]
    },
    {
      "cell_type": "code",
      "source": [
        "print(\"Charges by region:\")\n",
        "sum_by_cat(region, charges)"
      ],
      "metadata": {
        "colab": {
          "base_uri": "https://localhost:8080/"
        },
        "id": "1WAsx2mKXeUW",
        "outputId": "339ac3d6-9a21-419b-fd18-68506c0364b6"
      },
      "id": "1WAsx2mKXeUW",
      "execution_count": null,
      "outputs": [
        {
          "output_type": "stream",
          "name": "stdout",
          "text": [
            "Charges by region:\n",
            "charges for southeast :  {'Count': 364, 'Minimum': 1121.87, 'Maximum': 63770.43, 'Mean': 14735.41, 'Standard Deviation': 13971.1, 'Median': 9294.13}\n",
            "charges for northwest :  {'Count': 325, 'Minimum': 1621.34, 'Maximum': 60021.4, 'Mean': 12417.58, 'Standard Deviation': 11072.28, 'Median': 8965.8}\n",
            "charges for southwest :  {'Count': 325, 'Minimum': 1241.57, 'Maximum': 52590.83, 'Mean': 12346.94, 'Standard Deviation': 11557.18, 'Median': 8798.59}\n",
            "charges for northeast :  {'Count': 324, 'Minimum': 1694.8, 'Maximum': 58571.07, 'Mean': 13406.38, 'Standard Deviation': 11255.8, 'Median': 10057.65}\n"
          ]
        }
      ]
    },
    {
      "cell_type": "markdown",
      "source": [
        "## Conclusions"
      ],
      "metadata": {
        "id": "SNq9VYr3Jndl"
      },
      "id": "SNq9VYr3Jndl"
    },
    {
      "cell_type": "markdown",
      "source": [
        "#### Descriptive Analysis Conclusions\n",
        "\n",
        "\n",
        "*   Each variable has an **equal number of observations**: 1,338\n",
        "*   All numerical variables (except charges) have **similar means and medians**\n",
        "   *   Charges have a higher mean (USD 13,270) than median (USD 9,382), indicating\n",
        "that there is likely a **right skew in the charges data**\n",
        "*   There are **slightly more men** than women in the dataset\n",
        "*   The large majority of people **do not smoke** (80%)\n",
        "*   There are 4 regions in the dataset with the **Southeast** being the most represented\n",
        "\n"
      ],
      "metadata": {
        "id": "4huNqKawKZeU"
      },
      "id": "4huNqKawKZeU"
    },
    {
      "cell_type": "markdown",
      "source": [
        "#### Exploratory Analysis Conclusions\n",
        "\n",
        "\n",
        "*   Age, BMI, and number of children are all **positively correlated** with charges\n",
        "*   Based on **correlation coefficients**, **age** has the strongest relationship to charges, and **number of children** has the weakest relationship to charges\n",
        "*   **Women** have a slightly lower average charge but a slightly higher median charge than men\n",
        "*   On average, **smokers** pay approximately **$23,616 more** than their non-smoking counterparts for medical insurance\n",
        "*   The **Southeast** has the **highest** average charges, and the **Southwest** has the **lowest** average charges\n",
        "\n"
      ],
      "metadata": {
        "id": "YjfTIMJgNspP"
      },
      "id": "YjfTIMJgNspP"
    },
    {
      "cell_type": "markdown",
      "source": [
        "## Future Work and Improvements\n",
        "\n"
      ],
      "metadata": {
        "id": "gCinfiSzIROm"
      },
      "id": "gCinfiSzIROm"
    },
    {
      "cell_type": "markdown",
      "source": [
        "This data analysis was done without certain useful libraries such as **Pandas**, which would've streamlined the descriptive analysis by using **DataFrames**. However, the purpose of this project was to showcase Python fundamentals and data analysis through the use of simple lists, dictionaries, and some arrays.\n",
        "\n",
        "\n",
        "In the future and with similar projects, **Pandas** could be incorporated for more efficient data analysis, and **Matplotlib** would be useful to create visualizations of the dataset."
      ],
      "metadata": {
        "id": "wqNIku4_IfQ-"
      },
      "id": "wqNIku4_IfQ-"
    }
  ],
  "metadata": {
    "kernelspec": {
      "display_name": "Python 3 (ipykernel)",
      "language": "python",
      "name": "python3"
    },
    "language_info": {
      "codemirror_mode": {
        "name": "ipython",
        "version": 3
      },
      "file_extension": ".py",
      "mimetype": "text/x-python",
      "name": "python",
      "nbconvert_exporter": "python",
      "pygments_lexer": "ipython3",
      "version": "3.10.9"
    },
    "colab": {
      "provenance": []
    }
  },
  "nbformat": 4,
  "nbformat_minor": 5
}